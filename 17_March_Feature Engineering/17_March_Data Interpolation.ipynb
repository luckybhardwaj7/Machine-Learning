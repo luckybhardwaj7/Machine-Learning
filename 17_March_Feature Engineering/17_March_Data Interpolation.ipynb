{
 "cells": [
  {
   "cell_type": "markdown",
   "id": "26f408c2",
   "metadata": {},
   "source": [
    "# Data Interpolation "
   ]
  },
  {
   "cell_type": "markdown",
   "id": "e9bd61f4",
   "metadata": {},
   "source": [
    "Data Interpolation is the process of using known data values to estimate unknown data values. Various interpolation techniques are often used in the atmospheric sciences. One of the simplest methods, linear interpolation, requires knowledge of two points and the constant rate of change between them."
   ]
  },
  {
   "cell_type": "markdown",
   "id": "649dd9e5",
   "metadata": {},
   "source": [
    "## 1. Linear Interpolation"
   ]
  },
  {
   "cell_type": "code",
   "execution_count": 2,
   "id": "7e6bb45f",
   "metadata": {},
   "outputs": [],
   "source": [
    "import numpy as np\n",
    "x=np.array([1,2,3,4,5])\n",
    "y=np.array([2,4,6,8,10])"
   ]
  },
  {
   "cell_type": "code",
   "execution_count": 3,
   "id": "a0b3fd2b",
   "metadata": {},
   "outputs": [
    {
     "data": {
      "text/plain": [
       "<matplotlib.collections.PathCollection at 0x1724410d190>"
      ]
     },
     "execution_count": 3,
     "metadata": {},
     "output_type": "execute_result"
    },
    {
     "data": {
      "image/png": "[encoded data removed]",
      "text/plain": [
       "<Figure size 432x288 with 1 Axes>"
      ]
     },
     "metadata": {
      "needs_background": "light"
     },
     "output_type": "display_data"
    }
   ],
   "source": [
    "import matplotlib.pyplot as plt\n",
    "plt.scatter(x,y)"
   ]
  },
  {
   "cell_type": "code",
   "execution_count": 4,
   "id": "01e2162f",
   "metadata": {},
   "outputs": [],
   "source": [
    "# Interpolating the Data using Linear Interpolationa (creating the data between the scatter points)"
   ]
  },
  {
   "cell_type": "code",
   "execution_count": 6,
   "id": "50ae229c",
   "metadata": {},
   "outputs": [
    {
     "name": "stdout",
     "output_type": "stream",
     "text": [
      "[ 2.          2.88888889  3.77777778  4.66666667  5.55555556  6.44444444\n",
      "  7.33333333  8.22222222  9.11111111 10.        ]\n"
     ]
    }
   ],
   "source": [
    "x_new=np.linspace(1,5,10) # creating 10 pints between 1 to 5\n",
    "y_interp=np.interp(x_new,x,y) #interpolate y values\n",
    "print(y_interp)"
   ]
  },
  {
   "cell_type": "code",
   "execution_count": 8,
   "id": "20c9b6fb",
   "metadata": {},
   "outputs": [
    {
     "data": {
      "text/plain": [
       "<matplotlib.collections.PathCollection at 0x17245589a30>"
      ]
     },
     "execution_count": 8,
     "metadata": {},
     "output_type": "execute_result"
    },
    {
     "data": {
      "image/png": "[encoded data removed]",
      "text/plain": [
       "<Figure size 432x288 with 1 Axes>"
      ]
     },
     "metadata": {
      "needs_background": "light"
     },
     "output_type": "display_data"
    }
   ],
   "source": [
    "plt.scatter(x_new,y_interp)\n",
    "# 10 New Datapoints will be generated "
   ]
  },
  {
   "cell_type": "markdown",
   "id": "082733df",
   "metadata": {},
   "source": [
    "## 2. Cubic Interpolation (With Scipy)"
   ]
  },
  {
   "cell_type": "code",
   "execution_count": 14,
   "id": "58306335",
   "metadata": {},
   "outputs": [],
   "source": [
    "import numpy as np\n",
    "x=np.array([1,2,3,4,5])\n",
    "y=np.array([1,8,27,64,125])"
   ]
  },
  {
   "cell_type": "code",
   "execution_count": 16,
   "id": "113f7093",
   "metadata": {},
   "outputs": [],
   "source": [
    "from scipy.interpolate import interp1d"
   ]
  },
  {
   "cell_type": "code",
   "execution_count": 19,
   "id": "41d7c95c",
   "metadata": {},
   "outputs": [],
   "source": [
    "# Will create a cubic interpolation Function\n",
    "f=interp1d(x,y,kind='cubic')"
   ]
  },
  {
   "cell_type": "code",
   "execution_count": 20,
   "id": "bbcc0bc3",
   "metadata": {},
   "outputs": [
    {
     "name": "stdout",
     "output_type": "stream",
     "text": [
      "[  1.           3.01371742   6.739369    12.7037037   21.43347051\n",
      "  33.45541838  49.2962963   69.48285322  94.54183813 125.        ]\n"
     ]
    }
   ],
   "source": [
    "# interpolate the data \n",
    "x_new=np.linspace(1,5,10)\n",
    "y_interp=f(x_new)\n",
    "print(y_interp)"
   ]
  },
  {
   "cell_type": "code",
   "execution_count": 21,
   "id": "efc95f23",
   "metadata": {},
   "outputs": [
    {
     "data": {
      "text/plain": [
       "<matplotlib.collections.PathCollection at 0x17245d95190>"
      ]
     },
     "execution_count": 21,
     "metadata": {},
     "output_type": "execute_result"
    },
    {
     "data": {
      "image/png": "[encoded data removed]",
      "text/plain": [
       "<Figure size 432x288 with 1 Axes>"
      ]
     },
     "metadata": {
      "needs_background": "light"
     },
     "output_type": "display_data"
    }
   ],
   "source": [
    "plt.scatter(x,y)"
   ]
  },
  {
   "cell_type": "code",
   "execution_count": 22,
   "id": "fa5f0683",
   "metadata": {},
   "outputs": [
    {
     "data": {
      "text/plain": [
       "<matplotlib.collections.PathCollection at 0x17247151340>"
      ]
     },
     "execution_count": 22,
     "metadata": {},
     "output_type": "execute_result"
    },
    {
     "data": {
      "image/png": "[encoded data removed]",
      "text/plain": [
       "<Figure size 432x288 with 1 Axes>"
      ]
     },
     "metadata": {
      "needs_background": "light"
     },
     "output_type": "display_data"
    }
   ],
   "source": [
    "plt.scatter(x_new,y_interp)"
   ]
  },
  {
   "cell_type": "markdown",
   "id": "26f7d8cb",
   "metadata": {},
   "source": [
    "## 3. Polynomial Interpolation"
   ]
  },
  {
   "cell_type": "code",
   "execution_count": 23,
   "id": "3d7eec29",
   "metadata": {},
   "outputs": [],
   "source": [
    "import numpy as np\n",
    "x=np.array([1,2,3,4,5])\n",
    "y=np.array([1,4,9,16,25])"
   ]
  },
  {
   "cell_type": "code",
   "execution_count": 26,
   "id": "7a9f1b66",
   "metadata": {},
   "outputs": [],
   "source": [
    "# Interpolate the Data with Polynomial Interpolation\n",
    "p=np.polyfit(x,y,2) # fits the 2nd degree polynomial to the data"
   ]
  },
  {
   "cell_type": "code",
   "execution_count": 27,
   "id": "f98a0819",
   "metadata": {},
   "outputs": [],
   "source": [
    "# interpolate the data \n",
    "x_new=np.linspace(1,5,10)\n",
    "y_interp=np.polyval(p,x_new)"
   ]
  },
  {
   "cell_type": "code",
   "execution_count": 29,
   "id": "1b8823ab",
   "metadata": {},
   "outputs": [
    {
     "data": {
      "text/plain": [
       "<matplotlib.collections.PathCollection at 0x172471ae4c0>"
      ]
     },
     "execution_count": 29,
     "metadata": {},
     "output_type": "execute_result"
    },
    {
     "data": {
      "image/png": "[encoded data removed]",
      "text/plain": [
       "<Figure size 432x288 with 1 Axes>"
      ]
     },
     "metadata": {
      "needs_background": "light"
     },
     "output_type": "display_data"
    }
   ],
   "source": [
    "plt.scatter(x,y)"
   ]
  },
  {
   "cell_type": "code",
   "execution_count": 30,
   "id": "76bc0d34",
   "metadata": {},
   "outputs": [
    {
     "data": {
      "text/plain": [
       "<matplotlib.collections.PathCollection at 0x172471eb3d0>"
      ]
     },
     "execution_count": 30,
     "metadata": {},
     "output_type": "execute_result"
    },
    {
     "data": {
      "image/png": "[encoded data removed]",
      "text/plain": [
       "<Figure size 432x288 with 1 Axes>"
      ]
     },
     "metadata": {
      "needs_background": "light"
     },
     "output_type": "display_data"
    }
   ],
   "source": [
    "plt.scatter(x_new,y_interp)"
   ]
  },
  {
   "cell_type": "code",
   "execution_count": 39,
   "id": "b4eb0635",
   "metadata": {},
   "outputs": [
    {
     "data": {
      "text/plain": [
       "<matplotlib.collections.PathCollection at 0x17247386cd0>"
      ]
     },
     "execution_count": 39,
     "metadata": {},
     "output_type": "execute_result"
    },
    {
     "data": {
      "image/png": "[encoded data removed]",
      "text/plain": [
       "<Figure size 432x288 with 1 Axes>"
      ]
     },
     "metadata": {
      "needs_background": "light"
     },
     "output_type": "display_data"
    }
   ],
   "source": [
    "# Interpolate the Data with Polynomial Interpolation by degree as 4\n",
    "p=np.polyfit(x,y,4) # fits the 4nd degree polynomial to the data\n",
    "plt.scatter(x_new,y_interp)\n",
    "# With the degree as 4 it will bend a bit as compared to the one with degree as 2"
   ]
  },
  {
   "cell_type": "code",
   "execution_count": null,
   "id": "286a39f1",
   "metadata": {},
   "outputs": [],
   "source": []
  }
 ],
 "metadata": {
  "kernelspec": {
   "display_name": "Python 3 (ipykernel)",
   "language": "python",
   "name": "python3"
  },
  "language_info": {
   "codemirror_mode": {
    "name": "ipython",
    "version": 3
   },
   "file_extension": ".py",
   "mimetype": "text/x-python",
   "name": "python",
   "nbconvert_exporter": "python",
   "pygments_lexer": "ipython3",
   "version": "3.9.12"
  }
 },
 "nbformat": 4,
 "nbformat_minor": 5
}
